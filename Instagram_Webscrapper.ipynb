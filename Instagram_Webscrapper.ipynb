{
 "cells": [
  {
   "cell_type": "markdown",
   "id": "c25f468a",
   "metadata": {
    "nbgrader": {
     "grade": false,
     "grade_id": "cell-9fa773123e7caae5",
     "locked": true,
     "schema_version": 3,
     "solution": false,
     "task": false
    }
   },
   "source": [
    "# Scraping Instagram\n",
    "\n",
    "#### Author: Alejandra Saldivar"
   ]
  },
  {
   "cell_type": "code",
   "execution_count": null,
   "id": "5b0c6750",
   "metadata": {},
   "outputs": [],
   "source": [
    "# Import the necessary libraries\n",
    "\n",
    "from selenium import webdriver\n",
    "from selenium.webdriver.support.wait import WebDriverWait\n",
    "from selenium.webdriver.support import expected_conditions as EC\n",
    "from selenium.webdriver.common.by import By\n",
    "from selenium.webdriver.common.action_chains import ActionChains"
   ]
  },
  {
   "cell_type": "markdown",
   "id": "a2fea1ac",
   "metadata": {
    "nbgrader": {
     "grade": false,
     "grade_id": "cell-8d2f3e2e28a54e79",
     "locked": true,
     "schema_version": 3,
     "solution": false,
     "task": false
    }
   },
   "source": [
    "### Accessing the main page\n"
   ]
  },
  {
   "cell_type": "code",
   "execution_count": 2,
   "id": "66525a62",
   "metadata": {
    "nbgrader": {
     "grade": false,
     "grade_id": "cell-98d38f6991185491",
     "locked": false,
     "schema_version": 3,
     "solution": true,
     "task": false
    }
   },
   "outputs": [],
   "source": [
    "### Sotre the location of the driver\n",
    "PATH = 'path_to_driver'\n",
    "\n",
    "### Initialize the chrome driver\n",
    "driver = webdriver.Chrome(PATH)\n",
    "driver.get(\"https://www.instagram.com/\")"
   ]
  },
  {
   "cell_type": "code",
   "execution_count": 5,
   "id": "f123b566",
   "metadata": {
    "nbgrader": {
     "grade": false,
     "grade_id": "cell-e78e5006fa1703d1",
     "locked": true,
     "schema_version": 3,
     "solution": false,
     "task": false
    }
   },
   "outputs": [],
   "source": [
    "from selenium.webdriver.support import expected_conditions as EC"
   ]
  },
  {
   "cell_type": "markdown",
   "id": "487e834c",
   "metadata": {
    "nbgrader": {
     "grade": false,
     "grade_id": "cell-b894aa2eb5fad8d0",
     "locked": true,
     "schema_version": 3,
     "solution": false,
     "task": false
    }
   },
   "source": [
    "The conditions available in the different language bindings vary, but this is a non-exhaustive list of a few:\n",
    "\n",
    "- alert is present\n",
    "- element exists\n",
    "- element is visible\n",
    "- title contains\n",
    "- title is\n",
    "- element staleness\n",
    "- visible text\n",
    "\n",
    "The full list of available expected conditions for Python can be found [here](https://www.selenium.dev/selenium/docs/api/py/webdriver_support/selenium.webdriver.support.expected_conditions.html?highlight=expected). Here, you are interested in code that will allow your browser to wait until the cookis form becomes clicklable.\n",
    "\n",
    "<div class=\"alert alert-info\"><b>Exercise 2 </b> Write the code to halt your driver during 15 seconds or until the <i>Allow essential and optional cookies</i> button is clickable. Store the corresponding web element in a new variables called <b>cookies</b> and click it.</div>"
   ]
  },
  {
   "cell_type": "code",
   "execution_count": 6,
   "id": "97906ae8",
   "metadata": {
    "nbgrader": {
     "grade": false,
     "grade_id": "cell-5730f8b3bf110394",
     "locked": false,
     "schema_version": 3,
     "solution": true,
     "task": false
    }
   },
   "outputs": [],
   "source": [
    "### Handling cookies\n",
    "cookies = WebDriverWait(driver, 15).until(EC.element_to_be_clickable((By.XPATH, '//button[contains(text(), \"Allow essential and optional cookies\")]')))\n",
    "cookies.click()"
   ]
  },
  {
   "cell_type": "markdown",
   "id": "bf0706ca",
   "metadata": {
    "nbgrader": {
     "grade": false,
     "grade_id": "cell-ae1fd27d6aeec24e",
     "locked": true,
     "schema_version": 3,
     "solution": false,
     "task": false
    }
   },
   "source": [
    "#### Log in\n",
    "\n",
    "To complete the log in process, we will need two steps. The first is to wait until the corresponding web elements are clickable once again. The second is to send our username and password credentials to be granted access to our account. "
   ]
  },
  {
   "cell_type": "code",
   "execution_count": 7,
   "id": "904305db",
   "metadata": {
    "nbgrader": {
     "grade": false,
     "grade_id": "cell-8af4f73ad0206921",
     "locked": false,
     "schema_version": 3,
     "solution": true,
     "task": false
    }
   },
   "outputs": [],
   "source": [
    "### Wait until the usernae button or the password button is clickable\n",
    "username = WebDriverWait(driver, 10).until(EC.element_to_be_clickable((By.CSS_SELECTOR, \"input[name='username']\")))\n",
    "password = WebDriverWait(driver, 10).until(EC.element_to_be_clickable((By.CSS_SELECTOR, \"input[name='password']\")))"
   ]
  },
  {
   "cell_type": "code",
   "execution_count": 9,
   "id": "dc63c1bf",
   "metadata": {
    "nbgrader": {
     "grade": false,
     "grade_id": "cell-fdda860178395c8c",
     "locked": false,
     "schema_version": 3,
     "solution": true,
     "task": false
    }
   },
   "outputs": [],
   "source": [
    "### Send your username and password keys\n",
    "username.clear()\n",
    "username.send_keys(\"DUMMY_USERNAME\")\n",
    "password.clear()\n",
    "password.send_keys(\"DUMMY_PASSWORD\")\n"
   ]
  },
  {
   "cell_type": "code",
   "execution_count": 10,
   "id": "0b0eea16",
   "metadata": {
    "nbgrader": {
     "grade": false,
     "grade_id": "cell-640e8a389e452fe4",
     "locked": false,
     "schema_version": 3,
     "solution": true,
     "task": false
    }
   },
   "outputs": [],
   "source": [
    "### Wait until the Log in button is visible and click it\n",
    "login = WebDriverWait(driver, 10).until(EC.element_to_be_clickable((By.CSS_SELECTOR, \"button[type='submit']\")))\n",
    "login.click()"
   ]
  },
  {
   "cell_type": "code",
   "execution_count": 11,
   "id": "dc606871",
   "metadata": {
    "nbgrader": {
     "grade": false,
     "grade_id": "cell-f3f585c6ce012e22",
     "locked": false,
     "schema_version": 3,
     "solution": true,
     "task": false
    }
   },
   "outputs": [],
   "source": [
    "### Wait until the Not now button is visible and click it.\n",
    "save = WebDriverWait(driver, 15).until(EC.element_to_be_clickable((By.XPATH, '//button[contains(text(), \"Not now\")]')))\n",
    "save.click()"
   ]
  },
  {
   "cell_type": "code",
   "execution_count": 12,
   "id": "f2854514",
   "metadata": {
    "nbgrader": {
     "grade": false,
     "grade_id": "cell-e6a9c45f0bff2d0c",
     "locked": false,
     "schema_version": 3,
     "solution": true,
     "task": false
    }
   },
   "outputs": [],
   "source": [
    "### Wait until the <i>Not now</i> button is visible and click it.\n",
    "notifications = WebDriverWait(driver, 15).until(EC.element_to_be_clickable((By.XPATH, '//button[contains(text(), \"Not Now\")]')))\n",
    "notifications.click()"
   ]
  },
  {
   "cell_type": "markdown",
   "id": "ac43f1e7",
   "metadata": {
    "nbgrader": {
     "grade": false,
     "grade_id": "cell-6306f1d1acd9fccb",
     "locked": true,
     "schema_version": 3,
     "solution": false,
     "task": false
    }
   },
   "source": [
    "#### Search\n",
    "\n",
    "Notice that to open the search bar, you will need to first click the magnifying glass icon in the left menu of the website. Let's start by identifying this element. To do so we will conduct a relative XPATH search, that will enable us to locate specific elements inside a defined node."
   ]
  },
  {
   "cell_type": "code",
   "execution_count": null,
   "id": "27af2002",
   "metadata": {
    "nbgrader": {
     "grade": false,
     "grade_id": "cell-1a35fbb8bddb4e35",
     "locked": false,
     "schema_version": 3,
     "solution": true,
     "task": false
    }
   },
   "outputs": [],
   "source": [
    "### Wait until the Search button is visible in left menu and click it.\n",
    "driver.find_element(By.XPATH, '//div[@class=\"x9f619 xxk0z11 xvy4d1p x11xpdln xii2z7h x19c4wfv\"]/*[name()=\"svg\"][@aria-label=\"Buscar\"]').click()"
   ]
  },
  {
   "cell_type": "code",
   "execution_count": 14,
   "id": "f20d9efe",
   "metadata": {
    "nbgrader": {
     "grade": false,
     "grade_id": "cell-13ceb089fd4f2c52",
     "locked": false,
     "schema_version": 3,
     "solution": true,
     "task": false
    }
   },
   "outputs": [],
   "source": [
    "###  Wait until the Search bar is visible. Clear its content and send a search keyword.\n",
    "searchbox = WebDriverWait(driver, 10).until(EC.element_to_be_clickable((By.XPATH, \"//input[@placeholder='Search']\")))\n",
    "searchbox.clear()\n",
    "searchbox.send_keys(\"#brutalism\")"
   ]
  },
  {
   "cell_type": "code",
   "execution_count": 16,
   "id": "91d9b31f",
   "metadata": {
    "nbgrader": {
     "grade": false,
     "grade_id": "cell-011a4e63ae97872e",
     "locked": false,
     "schema_version": 3,
     "solution": true,
     "task": false
    }
   },
   "outputs": [],
   "source": [
    "### Click the firsr result\n",
    "elem = driver.find_element(By.XPATH, '//div[@class=\"x6s0dn4 x1wzhzgj x78zum5 xdt5ytf x5yr21d x1n2onr6 xh8yej3 xhtitgo\"]')\n",
    "elem.find_element_by_xpath('//div[@class=\"_abm4\"]').click()\n"
   ]
  },
  {
   "cell_type": "code",
   "execution_count": 17,
   "id": "f0452674",
   "metadata": {
    "nbgrader": {
     "grade": false,
     "grade_id": "cell-f1d5900fc3987ab3",
     "locked": true,
     "schema_version": 3,
     "solution": false,
     "task": false
    }
   },
   "outputs": [],
   "source": [
    "# Scroll down the page several times since we don't know the total length of the page\n",
    "driver.execute_script(\"window.scrollBy(0,document.body.scrollHeight);\")"
   ]
  },
  {
   "cell_type": "code",
   "execution_count": 30,
   "id": "b794ac6b",
   "metadata": {
    "nbgrader": {
     "grade": false,
     "grade_id": "cell-89b484a64d22ef5a",
     "locked": false,
     "schema_version": 3,
     "solution": true,
     "task": false
    }
   },
   "outputs": [],
   "source": [
    "### Retrieve the links to the original posts, the urls for the images and the corresponding image descriptions for all the search results displayed in the webpage.\n",
    "post_urls = []\n",
    "image_urls = []\n",
    "descriptions = []\n",
    "\n",
    "for result in driver.find_elements(By.XPATH, \"//div[@class='_aabd _aa8k _aanf']\"):\n",
    "    post_urls.append(result.find_element(By.TAG_NAME, \"a\").get_attribute(\"href\"))\n",
    "    image_urls.append(result.find_element(By.TAG_NAME, \"img\").get_attribute(\"src\"))\n",
    "    descriptions.append(result.find_element(By.TAG_NAME, \"img\").get_attribute(\"alt\"))"
   ]
  },
  {
   "cell_type": "code",
   "execution_count": 34,
   "id": "d8c0b63c",
   "metadata": {
    "nbgrader": {
     "grade": false,
     "grade_id": "cell-8e07449a1b77a43e",
     "locked": false,
     "schema_version": 3,
     "solution": true,
     "task": false
    }
   },
   "outputs": [],
   "source": [
    "### Move the mouse over the first search result\n",
    "action = webdriver.ActionChains(driver)\n",
    "element = driver.find_element(By.XPATH, \"//div[@class='_aabd _aa8k _aanf']\")\n",
    "action.move_to_element(element)\n",
    "action.perform()"
   ]
  },
  {
   "cell_type": "code",
   "execution_count": 37,
   "id": "98d45262",
   "metadata": {},
   "outputs": [],
   "source": [
    "### Retrieve the number of likes and the number of comments for all the search results currently displayed in the webpage.\n",
    "likes = []\n",
    "comments = []\n",
    "\n",
    "for result in driver.find_elements(By.XPATH, \"//div[@class='_aabd _aa8k _aanf']\"):\n",
    "    action = webdriver.ActionChains(driver)\n",
    "    action.move_to_element(result)\n",
    "    action.perform()\n",
    "    try:\n",
    "        likes.append(result.find_element(By.XPATH, \"//ul[@class='_abpo']\").find_elements(By.TAG_NAME, \"li\")[0].text)\n",
    "    except:\n",
    "        likes.append(None)\n",
    "    try:\n",
    "        comments.append(result.find_element(By.XPATH, \"//ul[@class='_abpo']\").find_elements(By.TAG_NAME, \"li\")[1].text)\n",
    "    except:\n",
    "        comments.append(None)"
   ]
  },
  {
   "cell_type": "markdown",
   "id": "2d898796",
   "metadata": {
    "nbgrader": {
     "grade": false,
     "grade_id": "cell-1133b958af085b05",
     "locked": true,
     "schema_version": 3,
     "solution": false,
     "task": false
    }
   },
   "source": [
    "#### Create new post\n",
    "\n",
    "The first step will require that you click on the plus icon in the left menu. "
   ]
  },
  {
   "cell_type": "code",
   "execution_count": 40,
   "id": "fa6226a2",
   "metadata": {
    "nbgrader": {
     "grade": false,
     "grade_id": "cell-68b9edb280c8baad",
     "locked": false,
     "schema_version": 3,
     "solution": true,
     "task": false
    }
   },
   "outputs": [],
   "source": [
    "### Wait until the New post button is visible in left menu and click it.\n",
    "driver.find_element(By.XPATH, '//div[@class=\"x9f619 xxk0z11 xvy4d1p x11xpdln xii2z7h x19c4wfv\"]/*[name()=\"svg\"][@aria-label=\"New post\"]').click()"
   ]
  },
  {
   "cell_type": "markdown",
   "id": "2aaee45b",
   "metadata": {
    "nbgrader": {
     "grade": false,
     "grade_id": "cell-01bd0f3acf4f4a44",
     "locked": true,
     "schema_version": 3,
     "solution": false,
     "task": false
    }
   },
   "source": [
    "When doing so, a pop-up message appears allowing us to select an image from our computer. \n",
    "\n",
    "Inspect the emerging message. You will see that in addition to the visible content, there's also an `input` tag that accepts different input types. In our case, we are going to provide an input of type `file`."
   ]
  },
  {
   "cell_type": "code",
   "execution_count": 113,
   "id": "f5809977",
   "metadata": {
    "nbgrader": {
     "grade": false,
     "grade_id": "cell-2f5191636a2ac57d",
     "locked": false,
     "schema_version": 3,
     "solution": true,
     "task": false
    }
   },
   "outputs": [],
   "source": [
    "### Find the input tag and send the keys corresponding to the location of the file in your computer.\n",
    "select_file = driver.find_element(By.CSS_SELECTOR, \"input[type='file']\")\n",
    "select_file.send_keys(\"path_to_file\")\n",
    "\n",
    "### It's necessary to give Terminal access to control the computer in the System preferences. Also to Accept terms at some point."
   ]
  },
  {
   "cell_type": "code",
   "execution_count": 114,
   "id": "0e5b5da6",
   "metadata": {
    "nbgrader": {
     "grade": false,
     "grade_id": "cell-315254e018d6244d",
     "locked": false,
     "schema_version": 3,
     "solution": true,
     "task": false
    }
   },
   "outputs": [],
   "source": [
    "### Identify the Next button and click it\n",
    "WebDriverWait(driver, 15).until(EC.element_to_be_clickable((By.XPATH, '//button[contains(text(), \"Next\")]'))).click()"
   ]
  },
  {
   "cell_type": "code",
   "execution_count": 115,
   "id": "d770c918",
   "metadata": {
    "nbgrader": {
     "grade": false,
     "grade_id": "cell-02941eaf896adad4",
     "locked": false,
     "schema_version": 3,
     "solution": true,
     "task": false
    }
   },
   "outputs": [],
   "source": [
    "### Identify the Next button and clickit\n",
    "WebDriverWait(driver, 15).until(EC.element_to_be_clickable((By.XPATH, '//button[contains(text(), \"Next\")]'))).click()"
   ]
  },
  {
   "cell_type": "code",
   "execution_count": 116,
   "id": "4a8a6d86",
   "metadata": {
    "nbgrader": {
     "grade": false,
     "grade_id": "cell-5da8361dc796e27c",
     "locked": false,
     "schema_version": 3,
     "solution": true,
     "task": false
    }
   },
   "outputs": [],
   "source": [
    "### Write a caption to the post\n",
    "caption = driver.find_element(By.XPATH, \"//textarea[@aria-label='Write a caption...']\")\n",
    "caption.send_keys(\"#summer\")"
   ]
  },
  {
   "cell_type": "code",
   "execution_count": 87,
   "id": "4d386764",
   "metadata": {
    "nbgrader": {
     "grade": false,
     "grade_id": "cell-275852d16e037b61",
     "locked": false,
     "schema_version": 3,
     "solution": true,
     "task": false
    }
   },
   "outputs": [],
   "source": [
    "### Identify the Share button and click it\n",
    "WebDriverWait(driver, 15).until(EC.element_to_be_clickable((By.XPATH, '//button[contains(text(), \"Share\")]'))).click()\n"
   ]
  }
 ],
 "metadata": {
  "celltoolbar": "Create Assignment",
  "kernelspec": {
   "display_name": "Python 3.9.16 ('esade-nlp')",
   "language": "python",
   "name": "python3"
  },
  "language_info": {
   "codemirror_mode": {
    "name": "ipython",
    "version": 3
   },
   "file_extension": ".py",
   "mimetype": "text/x-python",
   "name": "python",
   "nbconvert_exporter": "python",
   "pygments_lexer": "ipython3",
   "version": "3.9.16"
  },
  "vscode": {
   "interpreter": {
    "hash": "f9a7f0d4083a98d75d4f8229a90aea31b10a5d1f2bd6823a03f6e2122d5068ee"
   }
  }
 },
 "nbformat": 4,
 "nbformat_minor": 5
}
